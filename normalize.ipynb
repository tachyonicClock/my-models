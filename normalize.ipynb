{
 "cells": [
  {
   "cell_type": "code",
   "execution_count": 62,
   "metadata": {},
   "outputs": [],
   "source": [
    "import torch\n",
    "from torch.utils.data import DataLoader\n",
    "from torchvision import datasets\n",
    "from torchvision import transforms as T\n",
    "from types import SimpleNamespace\n",
    "from avalanche.benchmarks.datasets import CORe50Dataset\n"
   ]
  },
  {
   "cell_type": "code",
   "execution_count": 56,
   "metadata": {},
   "outputs": [],
   "source": [
    "cfg = SimpleNamespace()\n",
    "cfg.batch_size = 64\n",
    "cfg.data_root = \"/Scratch/al183/datasets\""
   ]
  },
  {
   "cell_type": "code",
   "execution_count": 57,
   "metadata": {},
   "outputs": [],
   "source": [
    "def print_mean_std(dataset, label):\n",
    "    loader = DataLoader(\n",
    "        dataset,\n",
    "        batch_size=cfg.batch_size,\n",
    "        num_workers=4,\n",
    "        shuffle=False\n",
    "    )\n",
    "    channels_sum, channels_squared_sum, num_batches = 0, 0, 0\n",
    "    for data, _ in loader:\n",
    "        # Mean over batch, height and width, but not over the channels\n",
    "        channels_sum += torch.mean(data, dim=[0,2,3])\n",
    "        channels_squared_sum += torch.mean(data**2, dim=[0,2,3])\n",
    "        num_batches += 1\n",
    "    \n",
    "    mean = channels_sum / num_batches\n",
    "    # std = sqrt(E[X^2] - (E[X])^2)\n",
    "    std = (channels_squared_sum / num_batches - mean ** 2) ** 0.5\n",
    "\n",
    "    def _to_str(tensor):\n",
    "        return \", \".join([f\"{x:.4f}\" for x in tensor.tolist()])\n",
    "\n",
    "\n",
    "    print(f\"{label}: ({_to_str(mean)}), ({_to_str(std)})\")\n",
    "    \n"
   ]
  },
  {
   "cell_type": "code",
   "execution_count": 58,
   "metadata": {},
   "outputs": [
    {
     "name": "stdout",
     "output_type": "stream",
     "text": [
      "FMNIST Train: (0.2861), (0.3530)\n",
      "FMNIST Test : (0.2866), (0.3523)\n"
     ]
    }
   ],
   "source": [
    "fmnist_train = datasets.FashionMNIST(cfg.data_root, train=True, download=True, transform=T.ToTensor())\n",
    "fmnist_test = datasets.FashionMNIST(cfg.data_root, train=False, download=True, transform=T.ToTensor())\n",
    "\n",
    "print_mean_std(fmnist_train, \"FMNIST Train\")\n",
    "print_mean_std(fmnist_test,  \"FMNIST Test \")\n"
   ]
  },
  {
   "cell_type": "code",
   "execution_count": 59,
   "metadata": {},
   "outputs": [
    {
     "name": "stdout",
     "output_type": "stream",
     "text": [
      "Files already downloaded and verified\n",
      "Files already downloaded and verified\n",
      "CIFAR10 Train: (0.4915, 0.4822, 0.4466), (0.2470, 0.2435, 0.2616)\n",
      "CIFAR10 Test : (0.4942, 0.4851, 0.4504), (0.2467, 0.2430, 0.2616)\n"
     ]
    }
   ],
   "source": [
    "# CIFAR10\n",
    "cifar10_train = datasets.CIFAR10(cfg.data_root, train=True, download=True, transform=T.ToTensor())\n",
    "cifar10_test = datasets.CIFAR10(cfg.data_root, train=False, download=True, transform=T.ToTensor())\n",
    "\n",
    "print_mean_std(cifar10_train, \"CIFAR10 Train\")\n",
    "print_mean_std(cifar10_test,  \"CIFAR10 Test \")"
   ]
  },
  {
   "cell_type": "code",
   "execution_count": 60,
   "metadata": {},
   "outputs": [
    {
     "name": "stdout",
     "output_type": "stream",
     "text": [
      "Files already downloaded and verified\n",
      "Files already downloaded and verified\n",
      "CIFAR100 Train: (0.5070, 0.4865, 0.4408), (0.2673, 0.2564, 0.2761)\n",
      "CIFAR100 Test : (0.5084, 0.4871, 0.4416), (0.2681, 0.2572, 0.2769)\n"
     ]
    }
   ],
   "source": [
    "# CIFAR100\n",
    "cifar100_train = datasets.CIFAR100(cfg.data_root, train=True, download=True, transform=T.ToTensor())\n",
    "cifar100_test = datasets.CIFAR100(cfg.data_root, train=False, download=True, transform=T.ToTensor())\n",
    "\n",
    "print_mean_std(cifar100_train, \"CIFAR100 Train\")\n",
    "print_mean_std(cifar100_test,  \"CIFAR100 Test \")"
   ]
  },
  {
   "cell_type": "code",
   "execution_count": 63,
   "metadata": {},
   "outputs": [
    {
     "name": "stdout",
     "output_type": "stream",
     "text": [
      "Loading labels...\n",
      "Loading LUP...\n",
      "Loading labels names...\n",
      "Files already downloaded and verified\n",
      "Loading labels...\n",
      "Loading LUP...\n",
      "Loading labels names...\n",
      "Files already downloaded and verified\n",
      "CORE50 Train: (0.6001, 0.5721, 0.5417), (0.1965, 0.2066, 0.2183)\n",
      "CORE50 Test : (0.5998, 0.5575, 0.5395), (0.2600, 0.2626, 0.2821)\n"
     ]
    }
   ],
   "source": [
    "# CORE50\n",
    "core50_train = CORe50Dataset(cfg.data_root, train=True, download=True, transform=T.ToTensor())\n",
    "core50_test = CORe50Dataset(cfg.data_root, train=False, download=True, transform=T.ToTensor())\n",
    "\n",
    "print_mean_std(core50_train, \"CORE50 Train\")\n",
    "print_mean_std(core50_test,  \"CORE50 Test \")"
   ]
  }
 ],
 "metadata": {
  "kernelspec": {
   "display_name": "Python 3.9.15 ('moacl')",
   "language": "python",
   "name": "python3"
  },
  "language_info": {
   "codemirror_mode": {
    "name": "ipython",
    "version": 3
   },
   "file_extension": ".py",
   "mimetype": "text/x-python",
   "name": "python",
   "nbconvert_exporter": "python",
   "pygments_lexer": "ipython3",
   "version": "3.9.15"
  },
  "orig_nbformat": 4,
  "vscode": {
   "interpreter": {
    "hash": "3da61e5833e84a62d788319a60b42555eb16c90e56e4122c42a93ad3481260d8"
   }
  }
 },
 "nbformat": 4,
 "nbformat_minor": 2
}
